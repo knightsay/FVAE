{
 "cells": [
  {
   "cell_type": "code",
   "execution_count": null,
   "id": "6122fc4d-440b-4591-8b52-9009d1283b83",
   "metadata": {},
   "outputs": [],
   "source": [
    "!git clone https://github.com/microsoft/qlib.git\n",
    "!python3 qlib/setup.py install\n",
    "!python3 -m qlib.run.get_data qlib_data --target_dir ~/.qlib/qlib_data/cn_data --region cn"
   ]
  },
  {
   "cell_type": "code",
   "execution_count": 2,
   "id": "65c0a52f-eae9-439c-aa92-854b4148e0c7",
   "metadata": {},
   "outputs": [],
   "source": [
    "from qlib.data.dataset import DatasetH, TSDatasetH\n",
    "import torch\n",
    "import torch.nn as nn\n",
    "import torch.nn.functional as F\n",
    "import torch.optim as optim\n",
    "from torch.utils.data import DataLoader, Dataset, TensorDataset\n",
    "import pandas as pd\n",
    "import numpy as np\n",
    "import matplotlib.pyplot as plt\n",
    "import seaborn as sns\n",
    "import os\n",
    "import sys\n",
    "import time\n",
    "import datetime\n",
    "import random\n",
    "import warnings\n",
    "\n",
    "from tqdm.auto import tqdm\n",
    "from Layers import FeatureExtractor, FactorEncoder, AlphaLayer, BetaLayer, FactorDecoder, FactorVAE, FactorPredictor\n",
    "from stockdata import StockDataset\n",
    "from tqdm.auto import tqdm\n",
    "from dataclasses import dataclass\n",
    "from utils import test_args, load_model, generate_prediction_scores\n",
    "\n",
    "warnings.simplefilter(\"ignore\", category=RuntimeWarning)\n",
    "pd.set_option('display.max_rows', 500)\n",
    "pd.set_option('display.float_format', lambda x: '%.3f' % x)\n",
    "\n",
    "# %load_ext autoreload\n",
    "# %autoreload 2"
   ]
  },
  {
   "cell_type": "markdown",
   "id": "b76aec6f-aaf6-4764-8c53-52bad53802e4",
   "metadata": {},
   "source": [
    "# Create Data"
   ]
  },
  {
   "cell_type": "code",
   "execution_count": null,
   "id": "f4688209-c28c-4164-9942-281dba90943a",
   "metadata": {},
   "outputs": [],
   "source": [
    "# Ideal but not runnable due to current setup\n",
    "# !python3 make_dataset.py --save_dir './trial1_data' --start_time '2012-01-01' --end_time '2023-11-30' --fit_end_time '2020-12-31' --val_start_time '2021-01-01' --val_end_time '2022-12-31' --seq_len 21 --normalize --select_feature\n",
    "\n",
    "# Real commands\n",
    "!python3 main.py --data_dir 'trial0_norm_data' --run_name 'lr0d0005_hz20_nl20_nf8' --save_dir './trial0_norm_models_lr0d0005_hz20_nl20_nf8' --wandb --normalize --num_epochs 5 --lr 0.0005 --hidden_size 20 --num_latent 20 --num_factor 8\n",
    "!python3 main.py --data_dir 'trial0_norm_data' --run_name 'lr0d0005_hz20_nl20_nf20' --save_dir './trial0_norm_models_lr0d0005_hz20_nl20_nf20' --wandb --normalize --num_epochs 5 --lr 0.0005 --hidden_size 20 --num_latent 20 --num_factor 20\n",
    "!python3 main.py --data_dir 'trial0_norm_data' --run_name 'lr0d0005_hz32_nl20_nf8' --save_dir './trial0_norm_models_lr0d0005_hz32_nl20_nf8' --wandb --normalize --num_epochs 5 --lr 0.0005 --hidden_size 32 --num_latent 20 --num_factor 8\n",
    "!python3 main.py --data_dir 'trial0_norm_data' --run_name 'lr0d0005_hz64_nl20_nf8' --save_dir './trial0_norm_models_lr0d0005_hz64_nl20_nf8' --wandb --normalize --num_epochs 5 --lr 0.0005 --hidden_size 64 --num_latent 20 --num_factor 8"
   ]
  },
  {
   "cell_type": "markdown",
   "id": "24e23ca7-9646-4356-a8b5-fcc19678768f",
   "metadata": {},
   "source": [
    "# Train"
   ]
  },
  {
   "cell_type": "markdown",
   "id": "70a74b02-db55-48ca-87c8-775d9a5b4ccd",
   "metadata": {},
   "source": [
    "!python3 main.py --data_dir 'trial0_data' --run_name 'trial0' --save_dir './trial0_models' --wandb"
   ]
  },
  {
   "cell_type": "markdown",
   "id": "1c97e17e-f495-4bac-918f-e243771d4743",
   "metadata": {},
   "source": [
    "!ython3 main.py --num_epochs 50 --lr 0.0005 --batch_size 256 --num_latent 20 --seq_len 21 --num_factor 8 --hidden_size 20 --seed 45 --run_name 'trial1' --save_dir './trial1_models' --wandb --normalize"
   ]
  },
  {
   "cell_type": "markdown",
   "id": "70802f05-9421-4d84-ab86-85b146f26827",
   "metadata": {},
   "source": [
    "# Profile"
   ]
  },
  {
   "cell_type": "code",
   "execution_count": null,
   "id": "a5c50051-6b74-418b-b9b5-479e90d5aab0",
   "metadata": {},
   "outputs": [],
   "source": [
    "from torch.profiler import profile, record_function, ProfilerActivity\n",
    "\n",
    "with profile(activities=[ProfilerActivity.CPU, ProfilerActivity.CUDA], profile_memory=True, record_shapes=True):\n",
    "    with record_function(\"model_inference\"):\n",
    "        output_words = evaluate(encoder, decoder, searcher, voc, input_sentence)"
   ]
  }
 ],
 "metadata": {
  "environment": {
   "kernel": "python3",
   "name": "common-gpu.m112",
   "type": "gcloud",
   "uri": "gcr.io/deeplearning-platform-release/base-gpu:m112"
  },
  "kernelspec": {
   "display_name": "Python 3",
   "language": "python",
   "name": "python3"
  },
  "language_info": {
   "codemirror_mode": {
    "name": "ipython",
    "version": 3
   },
   "file_extension": ".py",
   "mimetype": "text/x-python",
   "name": "python",
   "nbconvert_exporter": "python",
   "pygments_lexer": "ipython3",
   "version": "3.10.12"
  }
 },
 "nbformat": 4,
 "nbformat_minor": 5
}
